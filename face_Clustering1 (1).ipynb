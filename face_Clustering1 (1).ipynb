{
  "nbformat": 4,
  "nbformat_minor": 0,
  "metadata": {
    "colab": {
      "provenance": [],
      "gpuType": "T4"
    },
    "kernelspec": {
      "name": "python3",
      "display_name": "Python 3"
    },
    "language_info": {
      "name": "python"
    },
    "accelerator": "GPU"
  },
  "cells": [
    {
      "cell_type": "markdown",
      "source": [
        "---\n",
        "## **Using Eigen face**\n",
        "---"
      ],
      "metadata": {
        "id": "nSxfq6-a3uGC"
      }
    },
    {
      "cell_type": "code",
      "execution_count": null,
      "metadata": {
        "colab": {
          "base_uri": "https://localhost:8080/"
        },
        "id": "eIzBhIWERnV3",
        "outputId": "d76f775f-c1aa-47fc-f5b5-60ad0dd05190"
      },
      "outputs": [
        {
          "output_type": "stream",
          "name": "stdout",
          "text": [
            "Collecting py7zr\n",
            "  Downloading py7zr-0.20.5-py3-none-any.whl (66 kB)\n",
            "\u001b[?25l     \u001b[90m━━━━━━━━━━━━━━━━━━━━━━━━━━━━━━━━━━━━━━━━\u001b[0m \u001b[32m0.0/66.4 kB\u001b[0m \u001b[31m?\u001b[0m eta \u001b[36m-:--:--\u001b[0m\r\u001b[2K     \u001b[91m━━━━━━━━━━━━━━━━━━\u001b[0m\u001b[91m╸\u001b[0m\u001b[90m━━━━━━━━━━━━━━━━━━━━━\u001b[0m \u001b[32m30.7/66.4 kB\u001b[0m \u001b[31m1.8 MB/s\u001b[0m eta \u001b[36m0:00:01\u001b[0m\r\u001b[2K     \u001b[90m━━━━━━━━━━━━━━━━━━━━━━━━━━━━━━━━━━━━━━━\u001b[0m \u001b[32m66.4/66.4 kB\u001b[0m \u001b[31m922.2 kB/s\u001b[0m eta \u001b[36m0:00:00\u001b[0m\n",
            "\u001b[?25hCollecting texttable (from py7zr)\n",
            "  Downloading texttable-1.6.7-py2.py3-none-any.whl (10 kB)\n",
            "Collecting pycryptodomex>=3.6.6 (from py7zr)\n",
            "  Downloading pycryptodomex-3.18.0-cp35-abi3-manylinux_2_17_x86_64.manylinux2014_x86_64.whl (2.1 MB)\n",
            "\u001b[2K     \u001b[90m━━━━━━━━━━━━━━━━━━━━━━━━━━━━━━━━━━━━━━━━\u001b[0m \u001b[32m2.1/2.1 MB\u001b[0m \u001b[31m32.9 MB/s\u001b[0m eta \u001b[36m0:00:00\u001b[0m\n",
            "\u001b[?25hCollecting pyzstd>=0.14.4 (from py7zr)\n",
            "  Downloading pyzstd-0.15.9-cp310-cp310-manylinux_2_17_x86_64.manylinux2014_x86_64.whl (412 kB)\n",
            "\u001b[2K     \u001b[90m━━━━━━━━━━━━━━━━━━━━━━━━━━━━━━━━━━━━━━\u001b[0m \u001b[32m412.3/412.3 kB\u001b[0m \u001b[31m20.8 MB/s\u001b[0m eta \u001b[36m0:00:00\u001b[0m\n",
            "\u001b[?25hCollecting pyppmd<1.1.0,>=0.18.1 (from py7zr)\n",
            "  Downloading pyppmd-1.0.0-cp310-cp310-manylinux_2_17_x86_64.manylinux2014_x86_64.whl (138 kB)\n",
            "\u001b[2K     \u001b[90m━━━━━━━━━━━━━━━━━━━━━━━━━━━━━━━━━━━━━━━\u001b[0m \u001b[32m138.8/138.8 kB\u001b[0m \u001b[31m9.5 MB/s\u001b[0m eta \u001b[36m0:00:00\u001b[0m\n",
            "\u001b[?25hCollecting pybcj>=0.6.0 (from py7zr)\n",
            "  Downloading pybcj-1.0.1-cp310-cp310-manylinux_2_17_x86_64.manylinux2014_x86_64.whl (49 kB)\n",
            "\u001b[2K     \u001b[90m━━━━━━━━━━━━━━━━━━━━━━━━━━━━━━━━━━━━━━━━\u001b[0m \u001b[32m49.8/49.8 kB\u001b[0m \u001b[31m4.6 MB/s\u001b[0m eta \u001b[36m0:00:00\u001b[0m\n",
            "\u001b[?25hCollecting multivolumefile>=0.2.3 (from py7zr)\n",
            "  Downloading multivolumefile-0.2.3-py3-none-any.whl (17 kB)\n",
            "Collecting brotli>=1.0.9 (from py7zr)\n",
            "  Downloading Brotli-1.0.9-cp310-cp310-manylinux_2_5_x86_64.manylinux1_x86_64.manylinux_2_12_x86_64.manylinux2010_x86_64.whl (2.7 MB)\n",
            "\u001b[2K     \u001b[90m━━━━━━━━━━━━━━━━━━━━━━━━━━━━━━━━━━━━━━━━\u001b[0m \u001b[32m2.7/2.7 MB\u001b[0m \u001b[31m68.5 MB/s\u001b[0m eta \u001b[36m0:00:00\u001b[0m\n",
            "\u001b[?25hCollecting inflate64>=0.3.1 (from py7zr)\n",
            "  Downloading inflate64-0.3.1-cp310-cp310-manylinux_2_17_x86_64.manylinux2014_x86_64.whl (93 kB)\n",
            "\u001b[2K     \u001b[90m━━━━━━━━━━━━━━━━━━━━━━━━━━━━━━━━━━━━━━━━\u001b[0m \u001b[32m93.1/93.1 kB\u001b[0m \u001b[31m8.3 MB/s\u001b[0m eta \u001b[36m0:00:00\u001b[0m\n",
            "\u001b[?25hRequirement already satisfied: psutil in /usr/local/lib/python3.10/dist-packages (from py7zr) (5.9.5)\n",
            "Installing collected packages: texttable, brotli, pyzstd, pyppmd, pycryptodomex, pybcj, multivolumefile, inflate64, py7zr\n",
            "Successfully installed brotli-1.0.9 inflate64-0.3.1 multivolumefile-0.2.3 py7zr-0.20.5 pybcj-1.0.1 pycryptodomex-3.18.0 pyppmd-1.0.0 pyzstd-0.15.9 texttable-1.6.7\n"
          ]
        }
      ],
      "source": [
        "import numpy as np\n",
        "from sklearn.cluster import KMeans\n",
        "from sklearn.metrics import silhouette_score\n",
        "from sklearn import datasets\n",
        "import pandas as pd\n",
        "from sklearn.cluster import DBSCAN, KMeans\n",
        "import os\n",
        "from sklearn import metrics\n",
        "!pip install py7zr\n",
        "import py7zr\n",
        "import os\n",
        "import cv2\n",
        "from sklearn.decomposition import PCA\n",
        "from sklearn.preprocessing import StandardScaler\n",
        "from torchvision import datasets\n",
        "from tqdm import tqdm"
      ]
    },
    {
      "cell_type": "code",
      "source": [
        "!pip install kaggle"
      ],
      "metadata": {
        "colab": {
          "base_uri": "https://localhost:8080/"
        },
        "id": "gTBtIL1CJWUJ",
        "outputId": "77bfc299-28c0-457e-fac5-6c444596b678"
      },
      "execution_count": null,
      "outputs": [
        {
          "output_type": "stream",
          "name": "stdout",
          "text": [
            "Requirement already satisfied: kaggle in /usr/local/lib/python3.10/dist-packages (1.5.16)\n",
            "Requirement already satisfied: six>=1.10 in /usr/local/lib/python3.10/dist-packages (from kaggle) (1.16.0)\n",
            "Requirement already satisfied: certifi in /usr/local/lib/python3.10/dist-packages (from kaggle) (2023.7.22)\n",
            "Requirement already satisfied: python-dateutil in /usr/local/lib/python3.10/dist-packages (from kaggle) (2.8.2)\n",
            "Requirement already satisfied: requests in /usr/local/lib/python3.10/dist-packages (from kaggle) (2.27.1)\n",
            "Requirement already satisfied: tqdm in /usr/local/lib/python3.10/dist-packages (from kaggle) (4.65.0)\n",
            "Requirement already satisfied: python-slugify in /usr/local/lib/python3.10/dist-packages (from kaggle) (8.0.1)\n",
            "Requirement already satisfied: urllib3 in /usr/local/lib/python3.10/dist-packages (from kaggle) (1.26.16)\n",
            "Requirement already satisfied: bleach in /usr/local/lib/python3.10/dist-packages (from kaggle) (6.0.0)\n",
            "Requirement already satisfied: webencodings in /usr/local/lib/python3.10/dist-packages (from bleach->kaggle) (0.5.1)\n",
            "Requirement already satisfied: text-unidecode>=1.3 in /usr/local/lib/python3.10/dist-packages (from python-slugify->kaggle) (1.3)\n",
            "Requirement already satisfied: charset-normalizer~=2.0.0 in /usr/local/lib/python3.10/dist-packages (from requests->kaggle) (2.0.12)\n",
            "Requirement already satisfied: idna<4,>=2.5 in /usr/local/lib/python3.10/dist-packages (from requests->kaggle) (3.4)\n"
          ]
        }
      ]
    },
    {
      "cell_type": "code",
      "source": [
        "os.environ['KAGGLE_USERNAME'] = \"\"\n",
        "os.environ['KAGGLE_KEY'] = \"198ad7f2\""
      ],
      "metadata": {
        "id": "JwGTvQlyrAKy"
      },
      "execution_count": null,
      "outputs": []
    },
    {
      "cell_type": "code",
      "source": [
        "!kaggle datasets download -d hereisburak/pins-face-recognition"
      ],
      "metadata": {
        "colab": {
          "base_uri": "https://localhost:8080/"
        },
        "id": "xD4pqQFRJoMS",
        "outputId": "9f6a60bd-b2e5-41d8-d903-c51f7c42fc30"
      },
      "execution_count": null,
      "outputs": [
        {
          "output_type": "stream",
          "name": "stdout",
          "text": [
            "Downloading pins-face-recognition.zip to /content\n",
            "100% 372M/372M [00:19<00:00, 24.3MB/s]\n",
            "100% 372M/372M [00:19<00:00, 20.3MB/s]\n"
          ]
        }
      ]
    },
    {
      "cell_type": "code",
      "source": [
        "import zipfile\n",
        "\n",
        "def extract(path, folder):\n",
        "  zip_ref = zipfile.ZipFile(path, 'r')\n",
        "  zip_ref.extractall(folder)\n",
        "  zip_ref.close()\n",
        "\n",
        "base_folder = '/content/pins-face-recognition'\n",
        "extract(base_folder + \".zip\", base_folder)\n",
        "\n",
        "for file in os.listdir(base_folder):\n",
        "  name, ext = os.path.splitext(file)\n",
        "  if ext == \".zip\":\n",
        "    extract(os.path.join(base_folder, file), base_folder)"
      ],
      "metadata": {
        "id": "8drPPaMQrq-h"
      },
      "execution_count": null,
      "outputs": []
    },
    {
      "cell_type": "code",
      "source": [
        "from google.colab import drive\n",
        "drive.mount('/content/drive')"
      ],
      "metadata": {
        "id": "Yw44sH-CDUer",
        "colab": {
          "base_uri": "https://localhost:8080/"
        },
        "outputId": "e6524eb1-f4a1-4d4a-b8c1-a7705008e905"
      },
      "execution_count": null,
      "outputs": [
        {
          "output_type": "stream",
          "name": "stdout",
          "text": [
            "Mounted at /content/drive\n"
          ]
        }
      ]
    },
    {
      "cell_type": "code",
      "source": [
        "!pip install hdbscan\n",
        "import hdbscan\n",
        "def _make_cost_m(cm):\n",
        "    s = np.max(cm)\n",
        "    return (- cm + s)\n",
        "\n",
        "from scipy.optimize import linear_sum_assignment as linear_assignment\n",
        "from sklearn.metrics import confusion_matrix"
      ],
      "metadata": {
        "colab": {
          "base_uri": "https://localhost:8080/"
        },
        "id": "gZo6oohItK7Q",
        "outputId": "da028389-9e92-4d47-dc23-64a20795ea12"
      },
      "execution_count": null,
      "outputs": [
        {
          "output_type": "stream",
          "name": "stdout",
          "text": [
            "Requirement already satisfied: hdbscan in /usr/local/lib/python3.10/dist-packages (0.8.33)\n",
            "Requirement already satisfied: cython<3,>=0.27 in /usr/local/lib/python3.10/dist-packages (from hdbscan) (0.29.36)\n",
            "Requirement already satisfied: numpy>=1.20 in /usr/local/lib/python3.10/dist-packages (from hdbscan) (1.22.4)\n",
            "Requirement already satisfied: scipy>=1.0 in /usr/local/lib/python3.10/dist-packages (from hdbscan) (1.10.1)\n",
            "Requirement already satisfied: scikit-learn>=0.20 in /usr/local/lib/python3.10/dist-packages (from hdbscan) (1.2.2)\n",
            "Requirement already satisfied: joblib>=1.0 in /usr/local/lib/python3.10/dist-packages (from hdbscan) (1.3.1)\n",
            "Requirement already satisfied: threadpoolctl>=2.0.0 in /usr/local/lib/python3.10/dist-packages (from scikit-learn>=0.20->hdbscan) (3.2.0)\n"
          ]
        }
      ]
    },
    {
      "cell_type": "code",
      "source": [
        "def calculate_f_measure(y,labels):\n",
        "  cm = confusion_matrix(y, labels)\n",
        "  indexes = linear_assignment(_make_cost_m(cm))\n",
        "  # js = [e[1] for e in sorted(indexes, key=lambda x: x[0])]\n",
        "  cm2 = cm[:, indexes[1]]\n",
        "\n",
        "  acc = np.trace(cm2) / np.sum(cm2)\n",
        "  precision = np.nanmean(np.diag(cm2) / np.sum(cm2, axis = 0))\n",
        "  recall = np.nanmean(np.diag(cm2) / np.sum(cm2, axis = 1))\n",
        "  f1 = 2 * precision * recall / (precision + recall)\n",
        "  return f1\n",
        "\n",
        "def evaluate_clustering(labels, predictions, beta=1.0):\n",
        "  rand_index = metrics.rand_score(labels, predictions)\n",
        "  nmi = metrics.normalized_mutual_info_score(labels, predictions)\n",
        "  f_measure = calculate_f_measure(labels, predictions)\n",
        "  print('Rand Index: %f, NMI: %f, F-measure: %f' % (rand_index, nmi, f_measure))\n",
        "  return\n"
      ],
      "metadata": {
        "id": "6iu_8Js6M1zj"
      },
      "execution_count": null,
      "outputs": []
    },
    {
      "cell_type": "code",
      "source": [
        "dataset = datasets.ImageFolder('/content/pins-face-recognition/105_classes_pins_dataset')\n",
        "\n",
        "# Step 1: Data Collection and Preprocessing\n",
        "def load_images(data):\n",
        "    counter=1\n",
        "    faces = []\n",
        "    labels = []\n",
        "    with tqdm(total=len(dataset)) as pbar:\n",
        "      for image, label in data:\n",
        "        image=np.array(image)\n",
        "        image = cv2.resize(image, dsize=(160,160))\n",
        "        image = cv2.cvtColor(image, cv2.COLOR_BGR2GRAY)\n",
        "        faces.append( image)\n",
        "        labels.append(label)\n",
        "        counter+=1\n",
        "        pbar.update(1)\n",
        "    return faces, np.array(labels)\n",
        "\n",
        "# Step 2: Compute the Mean Face\n",
        "def compute_mean_face(faces):\n",
        "    mean_face = np.mean(faces, axis=0)\n",
        "    return mean_face\n",
        "\n",
        "# Step 3: Compute the Covariance Matrix and Eigenfaces\n",
        "def compute_eigenfaces(faces, num_components=100):\n",
        "    # Flatten the 2D images into 1D arrays\n",
        "    flattened_faces = np.array([face.flatten() for face in faces])\n",
        "\n",
        "    # Standardize the data (optional but recommended)\n",
        "    scaler = StandardScaler()\n",
        "    standardized_faces = scaler.fit_transform(flattened_faces)\n",
        "\n",
        "    # Perform PCA to compute eigenvalues and eigenvectors\n",
        "    pca = PCA(n_components=num_components)\n",
        "    eigenfaces = pca.fit_transform(standardized_faces)\n",
        "\n",
        "    return eigenfaces, pca.components_, scaler\n",
        "\n",
        "\n",
        "# Step 5: Clustering\n",
        "def perform_clustering(eigenfaces, num_clusters):\n",
        "    kmeans = KMeans(n_clusters=num_clusters)\n",
        "    labels = kmeans.fit_predict(eigenfaces)\n",
        "    return labels\n",
        "\n",
        "\n",
        "\n",
        "data = dataset\n",
        "num_clusters = 105  # Number of clusters for face clustering\n",
        "num_components = 100  # Number of Eigenfaces to retain\n",
        "\n",
        "# Step 1: Load Images\n",
        "faces, labels = load_images(dataset)\n",
        "\n",
        "# Step 2: Compute the Mean Face\n",
        "mean_face = compute_mean_face(faces)\n",
        "\n",
        "# Step 3: Compute Eigenfaces\n",
        "eigenfaces, _, scaler = compute_eigenfaces(faces, num_components=num_components)\n",
        "\n",
        "\n",
        "# Step 5: Clustering\n",
        "cluster_labels = perform_clustering(eigenfaces, num_clusters)\n"
      ],
      "metadata": {
        "id": "v9FAcqnqJBsW",
        "colab": {
          "base_uri": "https://localhost:8080/"
        },
        "outputId": "14cf4429-15eb-4115-d62a-8ffe68079cec"
      },
      "execution_count": null,
      "outputs": [
        {
          "output_type": "stream",
          "name": "stderr",
          "text": [
            "100%|██████████| 17534/17534 [00:18<00:00, 967.42it/s] \n",
            "/usr/local/lib/python3.10/dist-packages/sklearn/cluster/_kmeans.py:870: FutureWarning: The default value of `n_init` will change from 10 to 'auto' in 1.4. Set the value of `n_init` explicitly to suppress the warning\n",
            "  warnings.warn(\n"
          ]
        }
      ]
    },
    {
      "cell_type": "code",
      "source": [
        "evaluate_clustering(labels, cluster_labels)"
      ],
      "metadata": {
        "colab": {
          "base_uri": "https://localhost:8080/"
        },
        "id": "YgVnf5pf3rJi",
        "outputId": "cf2d973b-07d7-4978-f726-21bcd3e0138c"
      },
      "execution_count": null,
      "outputs": [
        {
          "output_type": "stream",
          "name": "stdout",
          "text": [
            "Rand Index: 0.979968, NMI: 0.149240, F-measure: 0.057479\n"
          ]
        }
      ]
    },
    {
      "cell_type": "code",
      "source": [
        "dbscan = DBSCAN(eps=0.5, min_samples=5, n_jobs=-1)\n",
        "\n",
        "\n",
        "dbscan.fit(eigenfaces)\n",
        "\n",
        "db_labels = dbscan.labels_"
      ],
      "metadata": {
        "id": "pU89wu4hBycY"
      },
      "execution_count": null,
      "outputs": []
    },
    {
      "cell_type": "code",
      "source": [
        "evaluate_clustering(labels, db_labels)"
      ],
      "metadata": {
        "colab": {
          "base_uri": "https://localhost:8080/"
        },
        "id": "9NOqvHevB4Fy",
        "outputId": "ba261fac-a65c-4e1a-cc43-b44ba7e7624f"
      },
      "execution_count": null,
      "outputs": [
        {
          "output_type": "stream",
          "name": "stdout",
          "text": [
            "Rand Index: 0.009861, NMI: 0.000000, F-measure: 0.011174\n"
          ]
        },
        {
          "output_type": "stream",
          "name": "stderr",
          "text": [
            "<ipython-input-13-a9a7f9a9b946>:8: RuntimeWarning: invalid value encountered in true_divide\n",
            "  precision = np.nanmean(np.diag(cm2) / np.sum(cm2, axis = 0))\n",
            "<ipython-input-13-a9a7f9a9b946>:9: RuntimeWarning: invalid value encountered in true_divide\n",
            "  recall = np.nanmean(np.diag(cm2) / np.sum(cm2, axis = 1))\n"
          ]
        }
      ]
    },
    {
      "cell_type": "code",
      "source": [
        "!pip install hdbscan"
      ],
      "metadata": {
        "colab": {
          "base_uri": "https://localhost:8080/"
        },
        "id": "ckCICP1Sg6xe",
        "outputId": "7352a6a4-5bd7-4990-e907-7a197e5a922a"
      },
      "execution_count": null,
      "outputs": [
        {
          "output_type": "stream",
          "name": "stdout",
          "text": [
            "Requirement already satisfied: hdbscan in /usr/local/lib/python3.10/dist-packages (0.8.33)\n",
            "Requirement already satisfied: cython<3,>=0.27 in /usr/local/lib/python3.10/dist-packages (from hdbscan) (0.29.36)\n",
            "Requirement already satisfied: numpy>=1.20 in /usr/local/lib/python3.10/dist-packages (from hdbscan) (1.22.4)\n",
            "Requirement already satisfied: scipy>=1.0 in /usr/local/lib/python3.10/dist-packages (from hdbscan) (1.10.1)\n",
            "Requirement already satisfied: scikit-learn>=0.20 in /usr/local/lib/python3.10/dist-packages (from hdbscan) (1.2.2)\n",
            "Requirement already satisfied: joblib>=1.0 in /usr/local/lib/python3.10/dist-packages (from hdbscan) (1.3.1)\n",
            "Requirement already satisfied: threadpoolctl>=2.0.0 in /usr/local/lib/python3.10/dist-packages (from scikit-learn>=0.20->hdbscan) (3.2.0)\n"
          ]
        }
      ]
    },
    {
      "cell_type": "code",
      "source": [
        "import hdbscan\n",
        "hdbscan = hdbscan.HDBSCAN(min_cluster_size=3)\n",
        "hdb_labels = hdbscan.fit_predict(eigenfaces)\n",
        "evaluate_clustering(labels, hdb_labels)"
      ],
      "metadata": {
        "colab": {
          "base_uri": "https://localhost:8080/"
        },
        "id": "ZKHdDntfg_at",
        "outputId": "f6d93002-98b5-47d2-ecac-b65f423d6d75"
      },
      "execution_count": null,
      "outputs": [
        {
          "output_type": "stream",
          "name": "stdout",
          "text": [
            "Rand Index: 0.485122, NMI: 0.010245, F-measure: 0.027477\n"
          ]
        },
        {
          "output_type": "stream",
          "name": "stderr",
          "text": [
            "<ipython-input-13-a9a7f9a9b946>:8: RuntimeWarning: invalid value encountered in true_divide\n",
            "  precision = np.nanmean(np.diag(cm2) / np.sum(cm2, axis = 0))\n",
            "<ipython-input-13-a9a7f9a9b946>:9: RuntimeWarning: invalid value encountered in true_divide\n",
            "  recall = np.nanmean(np.diag(cm2) / np.sum(cm2, axis = 1))\n"
          ]
        }
      ]
    }
  ]
}
